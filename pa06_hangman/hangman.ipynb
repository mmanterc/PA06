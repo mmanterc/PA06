{
 "cells": [
  {
   "cell_type": "markdown",
   "metadata": {},
   "source": [
    "# Hangman notes\n",
    "Your hangman homework has a number of different ways it can be completed. If you are having trouble completing it, you can use this notebook to guide you to a solution.\n",
    "\n",
    "## Describe the Algorithm\n",
    "Usually when we start writing a program we decide how we want the program to work. This is called the algorithm underlying the program.\n",
    "\n",
    "For hangman it might be something like this.\n",
    "\n",
    "1. Ask if they want to play a game, if not then return\n",
    "2. Generate a random word (w)\n",
    "   Also initialize the counter variable which keeps track of their remaining guesses\n",
    "   and initialize a variable to keep track of the letters they've guessed already.\n",
    "3. Ask the user for a letter and add it to the list of guessed letters\n",
    "4. If the letter has already been guessed or is not in the word, add one to the counter\n",
    "   and print a message saying they didn't guess a new letter\n",
    "5. Otherwise, congratulate them and print the letters in the word, but only showing the\n",
    "   letters they have guessed.\n",
    "6. If they have guessed all the letters or they have used up all of their guesses end the game\n",
    "7. Otherwise continue the game\n",
    "\n",
    "# Pseudocode\n",
    "The next step is to write the code as a combination of Python and English where the Python\n",
    "captures the \"top-level\" parts of the algorithm.\n",
    "\n",
    "Making this more Python-like we can rewrite it as:\n",
    "```python\n",
    "def play_hangman():\n",
    "    want_to_play = True\n",
    "\n",
    "\n",
    "    while (want_to_play):\n",
    "        guessed_letters = []\n",
    "        guesses_left = 6\n",
    "        word = \"generate a random word\"\n",
    "        letter = \"ask the user for a letter\"\n",
    "        done = False\n",
    "        while not done:\n",
    "            if letter in guessed_letters:\n",
    "                \"subtract one from guesses_left\"\n",
    "                \"and tell them they already guessed that letter\"\n",
    "            elif letter not in word:\n",
    "                \"add letter to guessed letters\"\n",
    "                \"tell user the letter is not in the word\"\n",
    "                \"subtract one from the guesses_left\"\n",
    "            else:\n",
    "                \"add letter to guessed letters\"\n",
    "                \"tell user the letter is in the word\"\n",
    "            if \"all the letters in the word have been guessed\":\n",
    "                \"set done to be true and tell the user they won!\"\n",
    "            elif \"the number of guesses left is zero\":\n",
    "                \"set done to be true and tell the user they lost!\"\n",
    "            else:\n",
    "                \"print the word with a dash for each letter not in guessed_letters\"\n",
    "                letter = \"ask the user for another letter\"\n",
    "        want_to_play = \"ask the user if they want to play another game...\"\n",
    "    \n",
    "```   \n",
    "Some of the pseudo code can be converted directly into python code\n",
    "Other pseudo code should be turned into functions, e.g.\n"
   ]
  },
  {
   "cell_type": "code",
   "execution_count": null,
   "metadata": {},
   "outputs": [],
   "source": [
    "again = True\n",
    "guessed = []\n",
    "while again == True:\n",
    "    letter = input(\"Enter a letter: \")\n",
    "    guessed.append(letter)\n",
    "    print(guessed)\n",
    "    again = input(\"would you like to add another letter?: \")\n",
    "    if again.lower() == \"no\":\n",
    "        again = False\n",
    "    else:\n",
    "        again = True"
   ]
  },
  {
   "cell_type": "markdown",
   "metadata": {},
   "source": [
    "## Testing\n",
    "Try to trace this program to see if the logic is correct\n",
    "Play a few games and see if we have forgotten anything..."
   ]
  },
  {
   "cell_type": "markdown",
   "metadata": {},
   "source": [
    "## Topdown development\n",
    "Now that we have a highlevel view of the program and have tested it, lets start writing the lowerlevel code.\n",
    "\n",
    "\"generate a random word\" could be a function call \n",
    "```python\n",
    "  word = generate_random_word()\n",
    "```\n",
    "and then you'll need to define the generate_random_word function. The easiest approach is to\n",
    "import the random module and use the random.choice(list) function which returns a random element\n",
    "from the list. Write the code for the generate_random_word function where you just write a list of words, e.g. \n",
    "``` python\n",
    "words = \"dog cat mouse deer snake\".split()\n",
    "```\n",
    "Try writing the generate_random_word function and testing it...\n",
    "Even better is to download a list of English words, read them (as we did for Romeo and Juliet),\n",
    "and then use the random.choice function of the random module to pick a random word from that list."
   ]
  },
  {
   "cell_type": "code",
   "execution_count": null,
   "metadata": {},
   "outputs": [],
   "source": [
    "import random\n",
    "def generate_random_word():\n",
    "    words = \"acres adult advice arrangement attempt August Autumn border breeze brick calm canal cast chose claws\".split()\n",
    "    return random.choice(words)\n",
    "word = generate_random_word()"
   ]
  },
  {
   "cell_type": "markdown",
   "metadata": {},
   "source": [
    "\"print the word with a dash for each letter not in guessed_letters\"\n",
    "\n",
    "should also be a function, \n",
    "```python\n",
    "print_word(word,guessed_letter)\n",
    "```\n",
    "which prints each letter of the word but prints a dash if the letter has not been guessed.\n",
    "Try writing that function here and testing it."
   ]
  },
  {
   "cell_type": "code",
   "execution_count": null,
   "metadata": {},
   "outputs": [],
   "source": [
    "def print_word(word,guessed_letter):\n",
    "    displayed = list(\"-\"*len(word))\n",
    "    something = list(word)\n",
    "    for i in range(0,len(word)):\n",
    "        if something[i] == guessed_letter:\n",
    "            displayed[i] = something[i]\n",
    "    displayed = \"\".join(displayed)\n",
    "    return displayed\n",
    "print(print_word(\"hello\",\"l\"))"
   ]
  },
  {
   "cell_type": "markdown",
   "metadata": {},
   "source": [
    "Putting it all together\n",
    "Now try to write the entire play_hangman game with all these pieces.\n"
   ]
  },
  {
   "cell_type": "code",
   "execution_count": 7,
   "metadata": {},
   "outputs": [
    {
     "name": "stdin",
     "output_type": "stream",
     "text": [
      "Enter a letter to guess:  a\n"
     ]
    },
    {
     "name": "stdout",
     "output_type": "stream",
     "text": [
      "-a-a-\n"
     ]
    },
    {
     "name": "stdin",
     "output_type": "stream",
     "text": [
      "Enter a letter to guess:  c\n"
     ]
    },
    {
     "name": "stdout",
     "output_type": "stream",
     "text": [
      "c is in the word\n",
      "ca-a-\n"
     ]
    },
    {
     "name": "stdin",
     "output_type": "stream",
     "text": [
      "Enter a letter to guess:  n\n"
     ]
    },
    {
     "name": "stdout",
     "output_type": "stream",
     "text": [
      "n is in the word\n",
      "cana-\n"
     ]
    },
    {
     "name": "stdin",
     "output_type": "stream",
     "text": [
      "Enter a letter to guess:  l\n"
     ]
    },
    {
     "name": "stdout",
     "output_type": "stream",
     "text": [
      "l is in the word\n",
      "canal\n"
     ]
    },
    {
     "name": "stdin",
     "output_type": "stream",
     "text": [
      "Enter a letter to guess:  l\n"
     ]
    },
    {
     "name": "stdout",
     "output_type": "stream",
     "text": [
      "You already guessed that letter\n",
      "You won!\n",
      "You already guessed that letter\n"
     ]
    },
    {
     "name": "stdin",
     "output_type": "stream",
     "text": [
      "Do you want to play again?:  n\n"
     ]
    }
   ],
   "source": [
    "import random\n",
    "\n",
    "## generate random word\n",
    "def generate_random_word():\n",
    "    words = \"acres adult advice arrangement attempt august autumn border breeze brick calm canal cast chose claws\".split()\n",
    "    word = random.choice(words)\n",
    "    return word\n",
    "\n",
    "## print guessed word\n",
    "def print_word(word,guessed_letter,displayed):\n",
    "    displayed = list(displayed)\n",
    "    something = list(word)\n",
    "    for i in range(0,len(word)):\n",
    "        if something[i] == guessed_letter:\n",
    "            displayed[i] = something[i]\n",
    "    displayed = \"\".join(displayed)\n",
    "    print(displayed)\n",
    "    return displayed\n",
    "\n",
    "## play game\n",
    "def play_hangman():\n",
    "    want_to_play = True\n",
    "    while (want_to_play):\n",
    "        word = generate_random_word()\n",
    "        displayed = \"-\"*len(word)\n",
    "        guessed_letters = []\n",
    "        guesses_left = 6\n",
    "        letter = input(\"Enter a letter to guess: \")\n",
    "        done = False\n",
    "        while not done:\n",
    "            if \"-\" not in displayed:\n",
    "                ## set done to be true and tell the user they won!\n",
    "                done = True\n",
    "                print(\"You won!\")\n",
    "            elif guesses_left == 0:\n",
    "                ## set done to be true and tell the user they lost!\n",
    "                done = True\n",
    "                print(\"You lost!\")\n",
    "            else:\n",
    "                ## print the word with a dash for each letter not in guessed_letters\n",
    "                displayed = print_word(word, letter, displayed)\n",
    "                letter = input(\"Enter a letter to guess: \")\n",
    "            if letter in guessed_letters:\n",
    "                ## subtract one from guesses_left\n",
    "                guesses_left = guesses_left-1\n",
    "                print(\"You already guessed that letter\")\n",
    "            elif letter not in word:\n",
    "                ## add letter to guessed letters \n",
    "                guessed_letters.append(letter)\n",
    "                ## tell user the letter is not in the word \n",
    "                print(letter,\"is not in the word\")\n",
    "                ## subtract one from the guesses_left\n",
    "                guesses_left = guesses_left-1\n",
    "            else:\n",
    "                ## add letter to guessed letters \n",
    "                guessed_letters.append(letter)\n",
    "                ## tell user the letter is in the word\n",
    "                print(letter,\"is in the word\")\n",
    "\n",
    "        want_to_play = input(\"Do you want to play again?: \")\n",
    "        if want_to_play.lower() == \"yes\":\n",
    "            want_to_play = True\n",
    "        else:\n",
    "            want_to_play = False\n",
    "play_hangman()"
   ]
  },
  {
   "cell_type": "code",
   "execution_count": null,
   "metadata": {},
   "outputs": [],
   "source": []
  }
 ],
 "metadata": {
  "kernelspec": {
   "display_name": "Python 3",
   "language": "python",
   "name": "python3"
  },
  "language_info": {
   "codemirror_mode": {
    "name": "ipython",
    "version": 3
   },
   "file_extension": ".py",
   "mimetype": "text/x-python",
   "name": "python",
   "nbconvert_exporter": "python",
   "pygments_lexer": "ipython3",
   "version": "3.7.6"
  }
 },
 "nbformat": 4,
 "nbformat_minor": 4
}
